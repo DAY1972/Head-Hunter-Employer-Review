{
 "cells": [
  {
   "cell_type": "code",
   "execution_count": 1,
   "id": "747ce765",
   "metadata": {},
   "outputs": [],
   "source": [
    "# Data visualization\n",
    "import matplotlib.pyplot as plt\n",
    "import seaborn as sns\n",
    "import numpy as np\n",
    "import pandas as pd \n",
    "import seaborn as sns\n",
    "# Keras\n",
    "from keras.models import Sequential\n",
    "from keras.layers import Dense\n",
    "from keras.layers import Dropout\n",
    "from keras.optimizers import SGD, Adam, Adadelta, RMSprop\n",
    "from keras import regularizers\n",
    "import keras.backend as K\n",
    "# Train-Test\n",
    "from sklearn.model_selection import train_test_split\n",
    "# Scaling data\n",
    "from sklearn.preprocessing import StandardScaler\n",
    "from sklearn.preprocessing import OneHotEncoder\n",
    "from sklearn.preprocessing import LabelEncoder\n",
    "# Classification Report\n",
    "from sklearn.metrics import classification_report\n",
    "from tensorflow.keras.models import load_model\n",
    "import pickle\n",
    "from sklearn.metrics import f1_score\n",
    "from sklearn.feature_extraction.text import TfidfVectorizer"
   ]
  },
  {
   "cell_type": "code",
   "execution_count": 2,
   "id": "228a0176",
   "metadata": {},
   "outputs": [],
   "source": [
    "# load dataset\n",
    "path_to_load = r'C:\\Users\\Dima\\Desktop\\СберУниверситет\\Дипломный проект\\Диплом файлы\\file_df_set_train_MLP_new.csv'\n",
    "df1 = pd.read_csv(path_to_load)\n",
    "# load test\n",
    "#path_to_load = r'C:\\Users\\Dima\\Desktop\\СберУниверситет\\Дипломный проект\\file_df_test_set.csv'\n",
    "#df1 = pd.read_csv(path_to_load)"
   ]
  },
  {
   "cell_type": "code",
   "execution_count": 3,
   "id": "4456f194",
   "metadata": {},
   "outputs": [
    {
     "data": {
      "text/html": [
       "<div>\n",
       "<style scoped>\n",
       "    .dataframe tbody tr th:only-of-type {\n",
       "        vertical-align: middle;\n",
       "    }\n",
       "\n",
       "    .dataframe tbody tr th {\n",
       "        vertical-align: top;\n",
       "    }\n",
       "\n",
       "    .dataframe thead th {\n",
       "        text-align: right;\n",
       "    }\n",
       "</style>\n",
       "<table border=\"1\" class=\"dataframe\">\n",
       "  <thead>\n",
       "    <tr style=\"text-align: right;\">\n",
       "      <th></th>\n",
       "      <th>Unnamed: 0</th>\n",
       "      <th>target</th>\n",
       "      <th>target_len</th>\n",
       "      <th>text</th>\n",
       "    </tr>\n",
       "  </thead>\n",
       "  <tbody>\n",
       "    <tr>\n",
       "      <th>0</th>\n",
       "      <td>0</td>\n",
       "      <td>0</td>\n",
       "      <td>1</td>\n",
       "      <td>ижевск мастер контрольный участка цеха salary5...</td>\n",
       "    </tr>\n",
       "    <tr>\n",
       "      <th>1</th>\n",
       "      <td>1</td>\n",
       "      <td>8</td>\n",
       "      <td>1</td>\n",
       "      <td>москва инженер лаборатории salary4 team4 manag...</td>\n",
       "    </tr>\n",
       "    <tr>\n",
       "      <th>2</th>\n",
       "      <td>2</td>\n",
       "      <td>0</td>\n",
       "      <td>1</td>\n",
       "      <td>екатеринбург техник по документации плавучей а...</td>\n",
       "    </tr>\n",
       "    <tr>\n",
       "      <th>3</th>\n",
       "      <td>3</td>\n",
       "      <td>0</td>\n",
       "      <td>1</td>\n",
       "      <td>санкт петербург техник полиграфист salary5 tea...</td>\n",
       "    </tr>\n",
       "    <tr>\n",
       "      <th>4</th>\n",
       "      <td>4</td>\n",
       "      <td>8</td>\n",
       "      <td>1</td>\n",
       "      <td>москва инструктор переводчик по обслуживанию г...</td>\n",
       "    </tr>\n",
       "    <tr>\n",
       "      <th>...</th>\n",
       "      <td>...</td>\n",
       "      <td>...</td>\n",
       "      <td>...</td>\n",
       "      <td>...</td>\n",
       "    </tr>\n",
       "    <tr>\n",
       "      <th>50871</th>\n",
       "      <td>50871</td>\n",
       "      <td>3,8</td>\n",
       "      <td>3</td>\n",
       "      <td>челябинск инженер по эксплуатации и наладке об...</td>\n",
       "    </tr>\n",
       "    <tr>\n",
       "      <th>50872</th>\n",
       "      <td>50872</td>\n",
       "      <td>8</td>\n",
       "      <td>1</td>\n",
       "      <td>санкт петербург инженер физик в ракетно космич...</td>\n",
       "    </tr>\n",
       "    <tr>\n",
       "      <th>50873</th>\n",
       "      <td>50873</td>\n",
       "      <td>8</td>\n",
       "      <td>1</td>\n",
       "      <td>нижний новгород лаборант исследователь в облас...</td>\n",
       "    </tr>\n",
       "    <tr>\n",
       "      <th>50874</th>\n",
       "      <td>50874</td>\n",
       "      <td>1</td>\n",
       "      <td>1</td>\n",
       "      <td>москва инженер проектировщик фотошаблонов для ...</td>\n",
       "    </tr>\n",
       "    <tr>\n",
       "      <th>50875</th>\n",
       "      <td>50875</td>\n",
       "      <td>0</td>\n",
       "      <td>1</td>\n",
       "      <td>москва специалист по безопасности телекоммуник...</td>\n",
       "    </tr>\n",
       "  </tbody>\n",
       "</table>\n",
       "<p>50876 rows × 4 columns</p>\n",
       "</div>"
      ],
      "text/plain": [
       "       Unnamed: 0 target  target_len  \\\n",
       "0               0      0           1   \n",
       "1               1      8           1   \n",
       "2               2      0           1   \n",
       "3               3      0           1   \n",
       "4               4      8           1   \n",
       "...           ...    ...         ...   \n",
       "50871       50871    3,8           3   \n",
       "50872       50872      8           1   \n",
       "50873       50873      8           1   \n",
       "50874       50874      1           1   \n",
       "50875       50875      0           1   \n",
       "\n",
       "                                                    text  \n",
       "0      ижевск мастер контрольный участка цеха salary5...  \n",
       "1      москва инженер лаборатории salary4 team4 manag...  \n",
       "2      екатеринбург техник по документации плавучей а...  \n",
       "3      санкт петербург техник полиграфист salary5 tea...  \n",
       "4      москва инструктор переводчик по обслуживанию г...  \n",
       "...                                                  ...  \n",
       "50871  челябинск инженер по эксплуатации и наладке об...  \n",
       "50872  санкт петербург инженер физик в ракетно космич...  \n",
       "50873  нижний новгород лаборант исследователь в облас...  \n",
       "50874  москва инженер проектировщик фотошаблонов для ...  \n",
       "50875  москва специалист по безопасности телекоммуник...  \n",
       "\n",
       "[50876 rows x 4 columns]"
      ]
     },
     "execution_count": 3,
     "metadata": {},
     "output_type": "execute_result"
    }
   ],
   "source": [
    "df1"
   ]
  },
  {
   "cell_type": "code",
   "execution_count": 12,
   "id": "8e204b03",
   "metadata": {},
   "outputs": [
    {
     "name": "stdout",
     "output_type": "stream",
     "text": [
      "0 21003\n",
      "8 24093\n",
      "7 326\n",
      "6 368\n",
      "3 905\n",
      "1 1269\n",
      "5 102\n",
      "4 38\n",
      "2 12\n"
     ]
    }
   ],
   "source": [
    "df = df1[df1['target_len'] == 1].copy()\n",
    "for target in df['target'].unique():\n",
    "    print(target, len(df[df['target'] == target]))"
   ]
  },
  {
   "cell_type": "code",
   "execution_count": 13,
   "id": "9422fc15",
   "metadata": {},
   "outputs": [
    {
     "data": {
      "text/html": [
       "<div>\n",
       "<style scoped>\n",
       "    .dataframe tbody tr th:only-of-type {\n",
       "        vertical-align: middle;\n",
       "    }\n",
       "\n",
       "    .dataframe tbody tr th {\n",
       "        vertical-align: top;\n",
       "    }\n",
       "\n",
       "    .dataframe thead th {\n",
       "        text-align: right;\n",
       "    }\n",
       "</style>\n",
       "<table border=\"1\" class=\"dataframe\">\n",
       "  <thead>\n",
       "    <tr style=\"text-align: right;\">\n",
       "      <th></th>\n",
       "      <th>Unnamed: 0</th>\n",
       "      <th>target</th>\n",
       "      <th>target_len</th>\n",
       "      <th>text</th>\n",
       "    </tr>\n",
       "  </thead>\n",
       "  <tbody>\n",
       "    <tr>\n",
       "      <th>0</th>\n",
       "      <td>0</td>\n",
       "      <td>0</td>\n",
       "      <td>1</td>\n",
       "      <td>ижевск мастер контрольный участка цеха salary5...</td>\n",
       "    </tr>\n",
       "    <tr>\n",
       "      <th>1</th>\n",
       "      <td>1</td>\n",
       "      <td>8</td>\n",
       "      <td>1</td>\n",
       "      <td>москва инженер лаборатории salary4 team4 manag...</td>\n",
       "    </tr>\n",
       "    <tr>\n",
       "      <th>2</th>\n",
       "      <td>2</td>\n",
       "      <td>0</td>\n",
       "      <td>1</td>\n",
       "      <td>екатеринбург техник по документации плавучей а...</td>\n",
       "    </tr>\n",
       "    <tr>\n",
       "      <th>3</th>\n",
       "      <td>3</td>\n",
       "      <td>0</td>\n",
       "      <td>1</td>\n",
       "      <td>санкт петербург техник полиграфист salary5 tea...</td>\n",
       "    </tr>\n",
       "    <tr>\n",
       "      <th>4</th>\n",
       "      <td>4</td>\n",
       "      <td>8</td>\n",
       "      <td>1</td>\n",
       "      <td>москва инструктор переводчик по обслуживанию г...</td>\n",
       "    </tr>\n",
       "    <tr>\n",
       "      <th>...</th>\n",
       "      <td>...</td>\n",
       "      <td>...</td>\n",
       "      <td>...</td>\n",
       "      <td>...</td>\n",
       "    </tr>\n",
       "    <tr>\n",
       "      <th>50870</th>\n",
       "      <td>50870</td>\n",
       "      <td>8</td>\n",
       "      <td>1</td>\n",
       "      <td>новосибирск выпускающий ответственный salary3 ...</td>\n",
       "    </tr>\n",
       "    <tr>\n",
       "      <th>50872</th>\n",
       "      <td>50872</td>\n",
       "      <td>8</td>\n",
       "      <td>1</td>\n",
       "      <td>санкт петербург инженер физик в ракетно космич...</td>\n",
       "    </tr>\n",
       "    <tr>\n",
       "      <th>50873</th>\n",
       "      <td>50873</td>\n",
       "      <td>8</td>\n",
       "      <td>1</td>\n",
       "      <td>нижний новгород лаборант исследователь в облас...</td>\n",
       "    </tr>\n",
       "    <tr>\n",
       "      <th>50874</th>\n",
       "      <td>50874</td>\n",
       "      <td>1</td>\n",
       "      <td>1</td>\n",
       "      <td>москва инженер проектировщик фотошаблонов для ...</td>\n",
       "    </tr>\n",
       "    <tr>\n",
       "      <th>50875</th>\n",
       "      <td>50875</td>\n",
       "      <td>0</td>\n",
       "      <td>1</td>\n",
       "      <td>москва специалист по безопасности телекоммуник...</td>\n",
       "    </tr>\n",
       "  </tbody>\n",
       "</table>\n",
       "<p>48116 rows × 4 columns</p>\n",
       "</div>"
      ],
      "text/plain": [
       "       Unnamed: 0 target  target_len  \\\n",
       "0               0      0           1   \n",
       "1               1      8           1   \n",
       "2               2      0           1   \n",
       "3               3      0           1   \n",
       "4               4      8           1   \n",
       "...           ...    ...         ...   \n",
       "50870       50870      8           1   \n",
       "50872       50872      8           1   \n",
       "50873       50873      8           1   \n",
       "50874       50874      1           1   \n",
       "50875       50875      0           1   \n",
       "\n",
       "                                                    text  \n",
       "0      ижевск мастер контрольный участка цеха salary5...  \n",
       "1      москва инженер лаборатории salary4 team4 manag...  \n",
       "2      екатеринбург техник по документации плавучей а...  \n",
       "3      санкт петербург техник полиграфист salary5 tea...  \n",
       "4      москва инструктор переводчик по обслуживанию г...  \n",
       "...                                                  ...  \n",
       "50870  новосибирск выпускающий ответственный salary3 ...  \n",
       "50872  санкт петербург инженер физик в ракетно космич...  \n",
       "50873  нижний новгород лаборант исследователь в облас...  \n",
       "50874  москва инженер проектировщик фотошаблонов для ...  \n",
       "50875  москва специалист по безопасности телекоммуник...  \n",
       "\n",
       "[48116 rows x 4 columns]"
      ]
     },
     "execution_count": 13,
     "metadata": {},
     "output_type": "execute_result"
    }
   ],
   "source": [
    "df.drop_duplicates(inplace=True)\n",
    "df"
   ]
  },
  {
   "cell_type": "code",
   "execution_count": 16,
   "id": "c56dd579",
   "metadata": {},
   "outputs": [
    {
     "data": {
      "text/plain": [
       "array([0., 0., 0., 0., 0., 0., 0., 0., 1.])"
      ]
     },
     "execution_count": 16,
     "metadata": {},
     "output_type": "execute_result"
    }
   ],
   "source": [
    "# векторизация зависимой переменной\n",
    "y = np.zeros((len(df), 9))\n",
    "for i, target in enumerate(df['target']):\n",
    "    for letter in target:\n",
    "        if letter in '0123456789':\n",
    "            y[i, int(letter)] = 1\n",
    "y[1]"
   ]
  },
  {
   "cell_type": "code",
   "execution_count": 23,
   "id": "1d5153d6",
   "metadata": {},
   "outputs": [],
   "source": [
    "vectorizer = TfidfVectorizer()\n",
    "X = vectorizer.fit_transform(df['text']).toarray()\n",
    "\n",
    "# сохраняем векторайзер\n",
    "pkl_filename = r'C:\\Users\\Dima\\Desktop\\СберУниверситет\\Дипломный проект\\Диплом файлы\\TfidfVectorizerMLP.pkl'\n",
    "with open(pkl_filename, 'wb') as file:\n",
    "    pickle.dump(vectorizer, file)"
   ]
  },
  {
   "cell_type": "code",
   "execution_count": 24,
   "id": "5a6274b6",
   "metadata": {},
   "outputs": [
    {
     "data": {
      "text/plain": [
       "(48116, 9)"
      ]
     },
     "execution_count": 24,
     "metadata": {},
     "output_type": "execute_result"
    }
   ],
   "source": [
    "y.shape"
   ]
  },
  {
   "cell_type": "code",
   "execution_count": 25,
   "id": "2803efae",
   "metadata": {},
   "outputs": [
    {
     "data": {
      "text/plain": [
       "(48116, 23848)"
      ]
     },
     "execution_count": 25,
     "metadata": {},
     "output_type": "execute_result"
    }
   ],
   "source": [
    "X.shape"
   ]
  },
  {
   "cell_type": "code",
   "execution_count": 26,
   "id": "b247d0e9",
   "metadata": {},
   "outputs": [],
   "source": [
    "X_train, X_test, y_train, y_test = train_test_split(X, y, test_size=0.1, random_state=42, stratify=y)"
   ]
  },
  {
   "cell_type": "code",
   "execution_count": 27,
   "id": "17594955",
   "metadata": {},
   "outputs": [
    {
     "name": "stdout",
     "output_type": "stream",
     "text": [
      "Model: \"sequential\"\n",
      "_________________________________________________________________\n",
      "Layer (type)                 Output Shape              Param #   \n",
      "=================================================================\n",
      "dense (Dense)                (None, 256)               6105344   \n",
      "_________________________________________________________________\n",
      "dense_1 (Dense)              (None, 128)               32896     \n",
      "_________________________________________________________________\n",
      "dense_2 (Dense)              (None, 64)                8256      \n",
      "_________________________________________________________________\n",
      "dense_3 (Dense)              (None, 32)                2080      \n",
      "_________________________________________________________________\n",
      "dense_4 (Dense)              (None, 9)                 297       \n",
      "=================================================================\n",
      "Total params: 6,148,873\n",
      "Trainable params: 6,148,873\n",
      "Non-trainable params: 0\n",
      "_________________________________________________________________\n"
     ]
    }
   ],
   "source": [
    "# MLP\n",
    "model = Sequential()\n",
    "model.add(Dense(256, input_shape = (X.shape[1],), activation = \"relu\", kernel_initializer='he_uniform',\n",
    "                kernel_regularizer=regularizers.l2(0.0001))) #\"relu\"\n",
    "#model.add(Dropout(0.5))\n",
    "model.add(Dense(128, activation = \"relu\", kernel_initializer='he_uniform', kernel_regularizer=regularizers.l2(0.0001)))\n",
    "#model.add(Dropout(0.5))\n",
    "model.add(Dense(64, activation = \"relu\", kernel_initializer='he_uniform', kernel_regularizer=regularizers.l2(0.0001)))\n",
    "#model.add(Dropout(0.5))\n",
    "model.add(Dense(32, activation = \"relu\", kernel_initializer='he_uniform', kernel_regularizer=regularizers.l2(0.0001)))\n",
    "#model.add(Dropout(0.5))\n",
    "model.add(Dense(y.shape[1], activation = \"softmax\", kernel_initializer='glorot_uniform'))\n",
    "model.compile(Adadelta(lr = 0.01), \"categorical_crossentropy\", metrics = [\"accuracy\"])\n",
    "model.summary()"
   ]
  },
  {
   "cell_type": "code",
   "execution_count": 28,
   "id": "03b94f1a",
   "metadata": {},
   "outputs": [
    {
     "name": "stdout",
     "output_type": "stream",
     "text": [
      "Epoch 1/30\n",
      "602/602 [==============================] - 59s 98ms/step - loss: 1.8167 - accuracy: 0.5002 - val_loss: 1.0937 - val_accuracy: 0.4998\n",
      "Epoch 2/30\n",
      "602/602 [==============================] - 49s 81ms/step - loss: 1.0637 - accuracy: 0.5189 - val_loss: 1.0677 - val_accuracy: 0.5031\n",
      "Epoch 3/30\n",
      "602/602 [==============================] - 49s 81ms/step - loss: 1.0409 - accuracy: 0.6251 - val_loss: 1.0439 - val_accuracy: 0.6551\n",
      "Epoch 4/30\n",
      "602/602 [==============================] - 49s 81ms/step - loss: 1.0136 - accuracy: 0.6761 - val_loss: 1.0154 - val_accuracy: 0.6705\n",
      "Epoch 5/30\n",
      "602/602 [==============================] - 49s 81ms/step - loss: 0.9819 - accuracy: 0.6799 - val_loss: 0.9864 - val_accuracy: 0.6748\n",
      "Epoch 6/30\n",
      "602/602 [==============================] - 48s 80ms/step - loss: 0.9544 - accuracy: 0.6816 - val_loss: 0.9662 - val_accuracy: 0.6759\n",
      "Epoch 7/30\n",
      "602/602 [==============================] - 48s 80ms/step - loss: 0.9358 - accuracy: 0.6838 - val_loss: 0.9542 - val_accuracy: 0.6768\n",
      "Epoch 8/30\n",
      "602/602 [==============================] - 49s 81ms/step - loss: 0.9241 - accuracy: 0.6857 - val_loss: 0.9470 - val_accuracy: 0.6781\n",
      "Epoch 9/30\n",
      "602/602 [==============================] - 48s 80ms/step - loss: 0.9160 - accuracy: 0.6882 - val_loss: 0.9423 - val_accuracy: 0.6786\n",
      "Epoch 10/30\n",
      "602/602 [==============================] - 49s 81ms/step - loss: 0.9098 - accuracy: 0.6901 - val_loss: 0.9386 - val_accuracy: 0.6816\n",
      "Epoch 11/30\n",
      "602/602 [==============================] - 49s 81ms/step - loss: 0.9046 - accuracy: 0.6925 - val_loss: 0.9357 - val_accuracy: 0.6828\n",
      "Epoch 12/30\n",
      "602/602 [==============================] - 49s 81ms/step - loss: 0.9001 - accuracy: 0.6942 - val_loss: 0.9333 - val_accuracy: 0.6827\n",
      "Epoch 13/30\n",
      "602/602 [==============================] - 48s 80ms/step - loss: 0.8960 - accuracy: 0.6952 - val_loss: 0.9312 - val_accuracy: 0.6824\n",
      "Epoch 14/30\n",
      "602/602 [==============================] - 49s 81ms/step - loss: 0.8921 - accuracy: 0.6964 - val_loss: 0.9296 - val_accuracy: 0.6812\n",
      "Epoch 15/30\n",
      "602/602 [==============================] - 49s 81ms/step - loss: 0.8886 - accuracy: 0.6974 - val_loss: 0.9277 - val_accuracy: 0.6808\n",
      "Epoch 16/30\n",
      "602/602 [==============================] - 49s 81ms/step - loss: 0.8850 - accuracy: 0.6989 - val_loss: 0.9262 - val_accuracy: 0.6809\n",
      "Epoch 17/30\n",
      "602/602 [==============================] - 49s 81ms/step - loss: 0.8816 - accuracy: 0.6989 - val_loss: 0.9248 - val_accuracy: 0.6821\n",
      "Epoch 18/30\n",
      "602/602 [==============================] - 49s 82ms/step - loss: 0.8783 - accuracy: 0.7004 - val_loss: 0.9236 - val_accuracy: 0.6829\n",
      "Epoch 19/30\n",
      "602/602 [==============================] - 49s 81ms/step - loss: 0.8750 - accuracy: 0.7011 - val_loss: 0.9225 - val_accuracy: 0.6820\n",
      "Epoch 20/30\n",
      "602/602 [==============================] - 49s 81ms/step - loss: 0.8717 - accuracy: 0.7021 - val_loss: 0.9216 - val_accuracy: 0.6823\n",
      "Epoch 21/30\n",
      "602/602 [==============================] - 49s 81ms/step - loss: 0.8684 - accuracy: 0.7034 - val_loss: 0.9206 - val_accuracy: 0.6823\n",
      "Epoch 22/30\n",
      "602/602 [==============================] - 49s 82ms/step - loss: 0.8653 - accuracy: 0.7047 - val_loss: 0.9199 - val_accuracy: 0.6820\n",
      "Epoch 23/30\n",
      "602/602 [==============================] - 49s 82ms/step - loss: 0.8619 - accuracy: 0.7059 - val_loss: 0.9196 - val_accuracy: 0.6813\n",
      "Epoch 24/30\n",
      "602/602 [==============================] - 49s 81ms/step - loss: 0.8588 - accuracy: 0.7074 - val_loss: 0.9185 - val_accuracy: 0.6818\n",
      "Epoch 25/30\n",
      "602/602 [==============================] - 49s 81ms/step - loss: 0.8556 - accuracy: 0.7087 - val_loss: 0.9178 - val_accuracy: 0.6830\n",
      "Epoch 26/30\n",
      "602/602 [==============================] - 49s 82ms/step - loss: 0.8523 - accuracy: 0.7107 - val_loss: 0.9175 - val_accuracy: 0.6825\n",
      "Epoch 27/30\n",
      "602/602 [==============================] - 49s 81ms/step - loss: 0.8490 - accuracy: 0.7122 - val_loss: 0.9172 - val_accuracy: 0.6827\n",
      "Epoch 28/30\n",
      "602/602 [==============================] - 49s 82ms/step - loss: 0.8457 - accuracy: 0.7144 - val_loss: 0.9171 - val_accuracy: 0.6821\n",
      "Epoch 29/30\n",
      "602/602 [==============================] - 49s 82ms/step - loss: 0.8423 - accuracy: 0.7164 - val_loss: 0.9173 - val_accuracy: 0.6828\n",
      "Epoch 30/30\n",
      "602/602 [==============================] - 49s 82ms/step - loss: 0.8390 - accuracy: 0.7180 - val_loss: 0.9175 - val_accuracy: 0.6814\n"
     ]
    }
   ],
   "source": [
    "history = model.fit(X, y, verbose=1, epochs=30, batch_size=64, validation_split=0.2)"
   ]
  },
  {
   "cell_type": "code",
   "execution_count": 29,
   "id": "57b6bed8",
   "metadata": {},
   "outputs": [
    {
     "name": "stdout",
     "output_type": "stream",
     "text": [
      "38/38 [==============================] - 1s 29ms/step - loss: 0.8587 - accuracy: 0.7105\n"
     ]
    }
   ],
   "source": [
    "results = model.evaluate(X_test, y_test, batch_size=128)"
   ]
  },
  {
   "cell_type": "code",
   "execution_count": 30,
   "id": "df7bf24f",
   "metadata": {},
   "outputs": [
    {
     "data": {
      "image/png": "[encoded data removed]",
      "text/plain": [
       "<Figure size 1080x720 with 1 Axes>"
      ]
     },
     "metadata": {
      "needs_background": "light"
     },
     "output_type": "display_data"
    }
   ],
   "source": [
    "plt.figure(figsize=(15, 10))\n",
    "plt.plot(history.history['accuracy'][:])\n",
    "plt.plot(history.history['val_accuracy'][:])\n",
    "plt.plot(history.history['loss'][:])\n",
    "plt.plot(history.history['val_loss'][:])\n",
    "plt.tick_params(axis='both', which='major', labelsize=14)\n",
    "plt.title('Модель: MLP(Adadelta, lr = 0.01, l2 = 0.0001)', fontsize=25)\n",
    "plt.ylabel('Accuracy', fontsize=20)\n",
    "plt.xlabel('Epoch', fontsize=20)\n",
    "plt.legend(['train accuracy', 'val_accuracy', 'train loss', 'val_loss'], loc='center right', fontsize=14)\n",
    "plt.show()"
   ]
  },
  {
   "cell_type": "code",
   "execution_count": 31,
   "id": "bd13de2c",
   "metadata": {},
   "outputs": [
    {
     "name": "stdout",
     "output_type": "stream",
     "text": [
      "WARNING:tensorflow:From C:\\Users\\Dima\\anaconda3\\lib\\site-packages\\tensorflow\\python\\training\\tracking\\tracking.py:111: Model.state_updates (from tensorflow.python.keras.engine.training) is deprecated and will be removed in a future version.\n",
      "Instructions for updating:\n",
      "This property should not be used in TensorFlow 2.0, as updates are applied automatically.\n",
      "WARNING:tensorflow:From C:\\Users\\Dima\\anaconda3\\lib\\site-packages\\tensorflow\\python\\training\\tracking\\tracking.py:111: Layer.updates (from tensorflow.python.keras.engine.base_layer) is deprecated and will be removed in a future version.\n",
      "Instructions for updating:\n",
      "This property should not be used in TensorFlow 2.0, as updates are applied automatically.\n",
      "INFO:tensorflow:Assets written to: C:\\Users\\Dima\\Desktop\\СберУниверситет\\Дипломный проект\\Диплом файлы\\KerasModel\\assets\n"
     ]
    }
   ],
   "source": [
    "model.save(r'C:\\Users\\Dima\\Desktop\\СберУниверситет\\Дипломный проект\\Диплом файлы\\KerasModel')"
   ]
  }
 ],
 "metadata": {
  "kernelspec": {
   "display_name": "Python 3",
   "language": "python",
   "name": "python3"
  },
  "language_info": {
   "codemirror_mode": {
    "name": "ipython",
    "version": 3
   },
   "file_extension": ".py",
   "mimetype": "text/x-python",
   "name": "python",
   "nbconvert_exporter": "python",
   "pygments_lexer": "ipython3",
   "version": "3.8.8"
  }
 },
 "nbformat": 4,
 "nbformat_minor": 5
}
